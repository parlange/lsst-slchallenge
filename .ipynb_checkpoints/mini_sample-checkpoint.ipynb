{
 "cells": [
  {
   "cell_type": "code",
   "execution_count": 5,
   "id": "b2768f0c-31a5-4cf8-854e-c9875484d261",
   "metadata": {},
   "outputs": [
    {
     "data": {
      "text/html": [
       "<div>\n",
       "<style scoped>\n",
       "    .dataframe tbody tr th:only-of-type {\n",
       "        vertical-align: middle;\n",
       "    }\n",
       "\n",
       "    .dataframe tbody tr th {\n",
       "        vertical-align: top;\n",
       "    }\n",
       "\n",
       "    .dataframe thead th {\n",
       "        text-align: right;\n",
       "    }\n",
       "</style>\n",
       "<table border=\"1\" class=\"dataframe\">\n",
       "  <thead>\n",
       "    <tr style=\"text-align: right;\">\n",
       "      <th></th>\n",
       "      <th>File</th>\n",
       "      <th>Dimensions</th>\n",
       "      <th>Bitpix</th>\n",
       "      <th>NAXIS</th>\n",
       "      <th>Object</th>\n",
       "      <th>Instrument</th>\n",
       "      <th>Date</th>\n",
       "    </tr>\n",
       "  </thead>\n",
       "  <tbody>\n",
       "    <tr>\n",
       "      <th>0</th>\n",
       "      <td>/home/parlange/datasets/mini_sample/metadata_c...</td>\n",
       "      <td>None</td>\n",
       "      <td>8</td>\n",
       "      <td>0</td>\n",
       "      <td>Unknown</td>\n",
       "      <td>Unknown</td>\n",
       "      <td>Unknown</td>\n",
       "    </tr>\n",
       "    <tr>\n",
       "      <th>1</th>\n",
       "      <td>/home/parlange/datasets/mini_sample/images/ima...</td>\n",
       "      <td>(20000, 61, 61)</td>\n",
       "      <td>-64</td>\n",
       "      <td>3</td>\n",
       "      <td>Unknown</td>\n",
       "      <td>Unknown</td>\n",
       "      <td>Unknown</td>\n",
       "    </tr>\n",
       "    <tr>\n",
       "      <th>2</th>\n",
       "      <td>/home/parlange/datasets/mini_sample/images/ima...</td>\n",
       "      <td>(20000, 61, 61)</td>\n",
       "      <td>-64</td>\n",
       "      <td>3</td>\n",
       "      <td>Unknown</td>\n",
       "      <td>Unknown</td>\n",
       "      <td>Unknown</td>\n",
       "    </tr>\n",
       "    <tr>\n",
       "      <th>3</th>\n",
       "      <td>/home/parlange/datasets/mini_sample/images/ima...</td>\n",
       "      <td>(20000, 61, 61)</td>\n",
       "      <td>-64</td>\n",
       "      <td>3</td>\n",
       "      <td>Unknown</td>\n",
       "      <td>Unknown</td>\n",
       "      <td>Unknown</td>\n",
       "    </tr>\n",
       "    <tr>\n",
       "      <th>4</th>\n",
       "      <td>/home/parlange/datasets/mini_sample/images/ima...</td>\n",
       "      <td>(20000, 61, 61)</td>\n",
       "      <td>-64</td>\n",
       "      <td>3</td>\n",
       "      <td>Unknown</td>\n",
       "      <td>Unknown</td>\n",
       "      <td>Unknown</td>\n",
       "    </tr>\n",
       "    <tr>\n",
       "      <th>5</th>\n",
       "      <td>/home/parlange/datasets/mini_sample/images/ima...</td>\n",
       "      <td>(20000, 61, 61)</td>\n",
       "      <td>-64</td>\n",
       "      <td>3</td>\n",
       "      <td>Unknown</td>\n",
       "      <td>Unknown</td>\n",
       "      <td>Unknown</td>\n",
       "    </tr>\n",
       "  </tbody>\n",
       "</table>\n",
       "</div>"
      ],
      "text/plain": [
       "                                                File       Dimensions  Bitpix  \\\n",
       "0  /home/parlange/datasets/mini_sample/metadata_c...             None       8   \n",
       "1  /home/parlange/datasets/mini_sample/images/ima...  (20000, 61, 61)     -64   \n",
       "2  /home/parlange/datasets/mini_sample/images/ima...  (20000, 61, 61)     -64   \n",
       "3  /home/parlange/datasets/mini_sample/images/ima...  (20000, 61, 61)     -64   \n",
       "4  /home/parlange/datasets/mini_sample/images/ima...  (20000, 61, 61)     -64   \n",
       "5  /home/parlange/datasets/mini_sample/images/ima...  (20000, 61, 61)     -64   \n",
       "\n",
       "   NAXIS   Object Instrument     Date  \n",
       "0      0  Unknown    Unknown  Unknown  \n",
       "1      3  Unknown    Unknown  Unknown  \n",
       "2      3  Unknown    Unknown  Unknown  \n",
       "3      3  Unknown    Unknown  Unknown  \n",
       "4      3  Unknown    Unknown  Unknown  \n",
       "5      3  Unknown    Unknown  Unknown  "
      ]
     },
     "execution_count": 5,
     "metadata": {},
     "output_type": "execute_result"
    }
   ],
   "source": [
    "import os\n",
    "from astropy.io import fits\n",
    "import pandas as pd\n",
    "\n",
    "# Define paths\n",
    "dataset_path = '/home/parlange/datasets/mini_sample/images'\n",
    "metadata_path = '/home/parlange/datasets/mini_sample/'\n",
    "\n",
    "# Function to analyze FITS files\n",
    "def analyze_fits_files(directory):\n",
    "    fits_data = []\n",
    "    for root, _, files in os.walk(directory):\n",
    "        for file in files:\n",
    "            if file.endswith('.fits'):\n",
    "                file_path = os.path.join(root, file)\n",
    "                try:\n",
    "                    with fits.open(file_path) as hdul:\n",
    "                        header = hdul[0].header\n",
    "                        fits_data.append({\n",
    "                            'File': file_path,\n",
    "                            'Dimensions': hdul[0].data.shape if hdul[0].data is not None else None,\n",
    "                            'Bitpix': header.get('BITPIX'),\n",
    "                            'NAXIS': header.get('NAXIS'),\n",
    "                            'Object': header.get('OBJECT', 'Unknown'),\n",
    "                            'Instrument': header.get('INSTRUME', 'Unknown'),\n",
    "                            'Date': header.get('DATE-OBS', 'Unknown')\n",
    "                        })\n",
    "                except Exception as e:\n",
    "                    print(f\"Error reading {file_path}: {e}\")\n",
    "    return fits_data\n",
    "\n",
    "# Analyze FITS files in both directories\n",
    "images_fits_data = analyze_fits_files(dataset_path)\n",
    "metadata_fits_data = analyze_fits_files(metadata_path)\n",
    "\n",
    "# Combine results and create a DataFrame\n",
    "fits_analysis_df = pd.DataFrame(images_fits_data)\n",
    "metadata_analysis_df = pd.DataFrame(metadata_fits_data)\n",
    "\n",
    "# Save the analysis results to a CSV file\n",
    "output_csv_path = 'fits_files_analysis.csv'\n",
    "fits_analysis_df.to_csv(output_csv_path, index=False)\n",
    "metadata_analysis_df.to_csv(output_csv_path, index=False)\n",
    "\n",
    "# Display the DataFrame\n",
    "fits_analysis_df\n",
    "metadata_analysis_df"
   ]
  },
  {
   "cell_type": "code",
   "execution_count": 10,
   "id": "b2fd516d-b03e-499f-82e7-60f71a4bf946",
   "metadata": {},
   "outputs": [
    {
     "name": "stdout",
     "output_type": "stream",
     "text": [
      "Images DataFrame:\n",
      "0    image_catalog_y.fits\n",
      "1    image_catalog_i.fits\n",
      "2    image_catalog_z.fits\n",
      "3    image_catalog_r.fits\n",
      "4    image_catalog_g.fits\n",
      "Name: File, dtype: object\n",
      "\n",
      "Metadata DataFrame:\n",
      "0    metadata_catalog.fits\n",
      "1     image_catalog_y.fits\n",
      "2     image_catalog_i.fits\n",
      "3     image_catalog_z.fits\n",
      "4     image_catalog_r.fits\n",
      "Name: File, dtype: object\n"
     ]
    }
   ],
   "source": [
    "print(\"Images DataFrame:\")\n",
    "print(images_df['File'].head())\n",
    "\n",
    "print(\"\\nMetadata DataFrame:\")\n",
    "print(metadata_df['File'].head())\n"
   ]
  },
  {
   "cell_type": "code",
   "execution_count": 2,
   "id": "4fa36131-69fd-4e89-97cf-1c45029ee604",
   "metadata": {},
   "outputs": [
    {
     "name": "stdout",
     "output_type": "stream",
     "text": [
      "Filename: /home/parlange/datasets/mini_sample/metadata_catalog.fits\n",
      "No.    Name      Ver    Type      Cards   Dimensions   Format\n",
      "  0  PRIMARY       1 PrimaryHDU       4   ()      \n",
      "  1                1 BinTableHDU     24   20000R x 8C   [D, D, D, D, D, D, D, D]   \n"
     ]
    }
   ],
   "source": [
    "fits.info('/home/parlange/datasets/mini_sample/metadata_catalog.fits')"
   ]
  },
  {
   "cell_type": "code",
   "execution_count": 3,
   "id": "6f919027-0812-4110-bf62-aad116b23437",
   "metadata": {},
   "outputs": [
    {
     "name": "stdout",
     "output_type": "stream",
     "text": [
      "ColDefs(\n",
      "    name = 'label'; format = 'D'\n",
      "    name = 'z_l'; format = 'D'\n",
      "    name = 'z_s'; format = 'D'\n",
      "    name = 'vel_disp'; format = 'D'\n",
      "    name = 'logM'; format = 'D'\n",
      "    name = 'theta_e'; format = 'D'\n",
      "    name = 'source_mag'; format = 'D'\n",
      "    name = 'lens_mag'; format = 'D'\n",
      ")\n"
     ]
    }
   ],
   "source": [
    "hdul = fits.open('/home/parlange/datasets/mini_sample/metadata_catalog.fits')\n",
    "print(hdul[1].columns)"
   ]
  },
  {
   "cell_type": "code",
   "execution_count": 7,
   "id": "67b0e792-39c0-4687-93b4-b4bcf9c1c5c4",
   "metadata": {},
   "outputs": [
    {
     "name": "stdout",
     "output_type": "stream",
     "text": [
      "Filename: /home/parlange/datasets/mini_sample/images/image_catalog_g.fits\n",
      "No.    Name      Ver    Type      Cards   Dimensions   Format\n",
      "  0  PRIMARY       1 PrimaryHDU       7   (61, 61, 20000)   float64   \n",
      "Filename: /home/parlange/datasets/mini_sample/images/image_catalog_r.fits\n",
      "No.    Name      Ver    Type      Cards   Dimensions   Format\n",
      "  0  PRIMARY       1 PrimaryHDU       7   (61, 61, 20000)   float64   \n",
      "Filename: /home/parlange/datasets/mini_sample/images/image_catalog_i.fits\n",
      "No.    Name      Ver    Type      Cards   Dimensions   Format\n",
      "  0  PRIMARY       1 PrimaryHDU       7   (61, 61, 20000)   float64   \n",
      "Filename: /home/parlange/datasets/mini_sample/images/image_catalog_z.fits\n",
      "No.    Name      Ver    Type      Cards   Dimensions   Format\n",
      "  0  PRIMARY       1 PrimaryHDU       7   (61, 61, 20000)   float64   \n",
      "Filename: /home/parlange/datasets/mini_sample/images/image_catalog_y.fits\n",
      "No.    Name      Ver    Type      Cards   Dimensions   Format\n",
      "  0  PRIMARY       1 PrimaryHDU       7   (61, 61, 20000)   float64   \n"
     ]
    }
   ],
   "source": [
    "fits.info('/home/parlange/datasets/mini_sample/images/image_catalog_g.fits')\n",
    "fits.info('/home/parlange/datasets/mini_sample/images/image_catalog_r.fits')\n",
    "fits.info('/home/parlange/datasets/mini_sample/images/image_catalog_i.fits')\n",
    "fits.info('/home/parlange/datasets/mini_sample/images/image_catalog_z.fits')\n",
    "fits.info('/home/parlange/datasets/mini_sample/images/image_catalog_y.fits')"
   ]
  },
  {
   "cell_type": "code",
   "execution_count": 4,
   "id": "5e2af0b7-968c-4edc-8c3d-28443f116248",
   "metadata": {},
   "outputs": [
    {
     "name": "stdout",
     "output_type": "stream",
     "text": [
      "All parameters extracted and saved as '/home/parlange/datasets/mini_sample/labels_parameters.csv'\n"
     ]
    }
   ],
   "source": [
    "# Load the FITS file\n",
    "fits_file = '/home/parlange/datasets/mini_sample/metadata_catalog.fits'\n",
    "with fits.open(fits_file) as hdul:\n",
    "    # Access the table data\n",
    "    data = hdul[1].data\n",
    "\n",
    "# Convert all columns to a pandas DataFrame\n",
    "columns = data.columns.names  # Get all column names\n",
    "data_dict = {col: data[col] for col in columns}  # Extract data for all columns\n",
    "df = pd.DataFrame(data_dict)\n",
    "\n",
    "# Save all parameters to a CSV file\n",
    "output_csv = '/home/parlange/datasets/mini_sample/labels_parameters.csv'\n",
    "df.to_csv(output_csv, index=False)\n",
    "\n",
    "print(f\"All parameters extracted and saved as '{output_csv}'\")"
   ]
  },
  {
   "cell_type": "code",
   "execution_count": 18,
   "id": "390bfcf9-8db6-4704-80a9-edbc1c16b490",
   "metadata": {},
   "outputs": [
    {
     "name": "stdout",
     "output_type": "stream",
     "text": [
      "Shape for g band: (20000, 61, 61)\n",
      "Shape for r band: (20000, 61, 61)\n",
      "Shape for i band: (20000, 61, 61)\n",
      "Shape for z band: (20000, 61, 61)\n",
      "Shape for y band: (20000, 61, 61)\n",
      "Final X shape: (20000, 5, 61, 61)\n",
      "y shape: (20000,)\n"
     ]
    }
   ],
   "source": [
    "import os\n",
    "import numpy as np\n",
    "from astropy.io import fits\n",
    "\n",
    "# Define paths\n",
    "images_dir = \"/home/parlange/datasets/mini_sample/images\"\n",
    "metadata_file = \"/home/parlange/datasets/mini_sample/metadata_catalog.fits\"\n",
    "\n",
    "# Bands and corresponding files\n",
    "bands = ['g', 'r', 'i', 'z', 'y']\n",
    "image_files = {\n",
    "    'g': 'image_catalog_g.fits',\n",
    "    'r': 'image_catalog_r.fits',\n",
    "    'i': 'image_catalog_i.fits',\n",
    "    'z': 'image_catalog_z.fits',\n",
    "    'y': 'image_catalog_y.fits'\n",
    "}\n",
    "\n",
    "band_data = []\n",
    "shapes = []\n",
    "\n",
    "for b in bands:\n",
    "    file_path = os.path.join(images_dir, image_files[b])\n",
    "    with fits.open(file_path) as hdul:\n",
    "        data = hdul[0].data\n",
    "        print(f\"Shape for {b} band: {data.shape}\")\n",
    "        band_data.append(data)\n",
    "        shapes.append(data.shape)\n",
    "\n",
    "# Check if all arrays have the same shape\n",
    "unique_shapes = set(shapes)\n",
    "if len(unique_shapes) != 1:\n",
    "    raise ValueError(f\"Inconsistent shapes among bands: {unique_shapes}\")\n",
    "\n",
    "# Since all have the same shape, we can stack them\n",
    "X = np.stack(band_data, axis=1)\n",
    "print(\"Final X shape:\", X.shape)\n",
    "\n",
    "# Load labels from the metadata file\n",
    "with fits.open(metadata_file) as hdul:\n",
    "    meta_data = hdul[1].data\n",
    "    y = np.array(meta_data['label'])\n",
    "    print(\"y shape:\", y.shape)"
   ]
  }
 ],
 "metadata": {
  "kernelspec": {
   "display_name": "vit",
   "language": "python",
   "name": "vit"
  },
  "language_info": {
   "codemirror_mode": {
    "name": "ipython",
    "version": 3
   },
   "file_extension": ".py",
   "mimetype": "text/x-python",
   "name": "python",
   "nbconvert_exporter": "python",
   "pygments_lexer": "ipython3",
   "version": "3.9.19"
  }
 },
 "nbformat": 4,
 "nbformat_minor": 5
}
